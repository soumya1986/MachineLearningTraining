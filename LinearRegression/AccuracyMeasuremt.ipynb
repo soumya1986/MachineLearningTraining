{
 "cells": [
  {
   "cell_type": "markdown",
   "id": "angry-problem",
   "metadata": {},
   "source": [
    "### Classification Accuracy and its Limitations"
   ]
  },
  {
   "cell_type": "markdown",
   "id": "approved-backing",
   "metadata": {},
   "source": [
    "Classification accuracy is the ratio of correct predictions to total predictions made.  \n",
    "**classification accuracy = correct predictions / total predictions**  \n",
    "It is often presented as a percentage by multiplying the result by 100.\n",
    "**classification accuracy = correct predictions / total predictions * 100**   \n",
    "  \n",
    "Classification accuracy can also easily be turned into a misclassification rate or error rate by inverting the value, such as:  \n",
    "**error rate = (1 - (correct predictions / total predictions)) * 100**\n",
    "\n",
    "Classification accuracy is a great place to start, but often encounters problems in practice.  \n",
    "  \n",
    "The main problem with classification accuracy is that it hides the detail you need to better understand the performance of your classification model. There are two examples where you are most likely to encounter this problem:  \n",
    "  \n",
    "- When your data has more than 2 classes. With 3 or more classes you may get a classification accuracy of 80%, but you don’t know if that is because all classes are being predicted equally well or whether one or two classes are being neglected by the model.\n",
    "- When your data does not have an even number of classes. You may achieve accuracy of 90% or more, but this is not a good score if 90 records for every 100 belong to one class and you can achieve this score by always predicting the most common class value.  \n",
    "\n",
    "Classification accuracy can hide the detail you need to diagnose the performance of your model."
   ]
  },
  {
   "cell_type": "code",
   "execution_count": 3,
   "id": "quick-obligation",
   "metadata": {},
   "outputs": [],
   "source": [
    "# classification accuracy = correct predictions / total predictions"
   ]
  },
  {
   "cell_type": "code",
   "execution_count": null,
   "id": "expanded-climb",
   "metadata": {},
   "outputs": [],
   "source": []
  }
 ],
 "metadata": {
  "kernelspec": {
   "display_name": "Python 3",
   "language": "python",
   "name": "python3"
  },
  "language_info": {
   "codemirror_mode": {
    "name": "ipython",
    "version": 3
   },
   "file_extension": ".py",
   "mimetype": "text/x-python",
   "name": "python",
   "nbconvert_exporter": "python",
   "pygments_lexer": "ipython3",
   "version": "3.7.4"
  }
 },
 "nbformat": 4,
 "nbformat_minor": 5
}
